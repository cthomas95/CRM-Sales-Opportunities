{
 "cells": [
  {
   "cell_type": "markdown",
   "id": "0d05e2f9-8e76-4152-a554-d8757a2c4d17",
   "metadata": {},
   "source": [
    "EDA"
   ]
  },
  {
   "cell_type": "markdown",
   "id": "67e1d081-1666-4ca0-b302-67fb859c4597",
   "metadata": {},
   "source": [
    "Data Import and Preprocessing"
   ]
  },
  {
   "cell_type": "code",
   "execution_count": 102,
   "id": "460cd9cd-750e-48c2-8540-84f20c6eb21e",
   "metadata": {},
   "outputs": [
    {
     "data": {
      "text/html": [
       "<div>\n",
       "<style scoped>\n",
       "    .dataframe tbody tr th:only-of-type {\n",
       "        vertical-align: middle;\n",
       "    }\n",
       "\n",
       "    .dataframe tbody tr th {\n",
       "        vertical-align: top;\n",
       "    }\n",
       "\n",
       "    .dataframe thead th {\n",
       "        text-align: right;\n",
       "    }\n",
       "</style>\n",
       "<table border=\"1\" class=\"dataframe\">\n",
       "  <thead>\n",
       "    <tr style=\"text-align: right;\">\n",
       "      <th></th>\n",
       "      <th>opportunity_id</th>\n",
       "      <th>sales_agent</th>\n",
       "      <th>product</th>\n",
       "      <th>account</th>\n",
       "      <th>deal_stage</th>\n",
       "      <th>engage_date</th>\n",
       "      <th>close_date</th>\n",
       "      <th>close_value</th>\n",
       "    </tr>\n",
       "  </thead>\n",
       "  <tbody>\n",
       "    <tr>\n",
       "      <th>0</th>\n",
       "      <td>1C1I7A6R</td>\n",
       "      <td>Moses Frase</td>\n",
       "      <td>GTX Plus Basic</td>\n",
       "      <td>Cancity</td>\n",
       "      <td>Won</td>\n",
       "      <td>2016-10-20</td>\n",
       "      <td>2017-03-01</td>\n",
       "      <td>1054.0</td>\n",
       "    </tr>\n",
       "    <tr>\n",
       "      <th>1</th>\n",
       "      <td>Z063OYW0</td>\n",
       "      <td>Darcel Schlecht</td>\n",
       "      <td>GTXPro</td>\n",
       "      <td>Isdom</td>\n",
       "      <td>Won</td>\n",
       "      <td>2016-10-25</td>\n",
       "      <td>2017-03-11</td>\n",
       "      <td>4514.0</td>\n",
       "    </tr>\n",
       "    <tr>\n",
       "      <th>2</th>\n",
       "      <td>EC4QE1BX</td>\n",
       "      <td>Darcel Schlecht</td>\n",
       "      <td>MG Special</td>\n",
       "      <td>Cancity</td>\n",
       "      <td>Won</td>\n",
       "      <td>2016-10-25</td>\n",
       "      <td>2017-03-07</td>\n",
       "      <td>50.0</td>\n",
       "    </tr>\n",
       "    <tr>\n",
       "      <th>3</th>\n",
       "      <td>MV1LWRNH</td>\n",
       "      <td>Moses Frase</td>\n",
       "      <td>GTX Basic</td>\n",
       "      <td>Codehow</td>\n",
       "      <td>Won</td>\n",
       "      <td>2016-10-25</td>\n",
       "      <td>2017-03-09</td>\n",
       "      <td>588.0</td>\n",
       "    </tr>\n",
       "    <tr>\n",
       "      <th>4</th>\n",
       "      <td>PE84CX4O</td>\n",
       "      <td>Zane Levy</td>\n",
       "      <td>GTX Basic</td>\n",
       "      <td>Hatfan</td>\n",
       "      <td>Won</td>\n",
       "      <td>2016-10-25</td>\n",
       "      <td>2017-03-02</td>\n",
       "      <td>517.0</td>\n",
       "    </tr>\n",
       "  </tbody>\n",
       "</table>\n",
       "</div>"
      ],
      "text/plain": [
       "  opportunity_id      sales_agent         product  account deal_stage  \\\n",
       "0       1C1I7A6R      Moses Frase  GTX Plus Basic  Cancity        Won   \n",
       "1       Z063OYW0  Darcel Schlecht          GTXPro    Isdom        Won   \n",
       "2       EC4QE1BX  Darcel Schlecht      MG Special  Cancity        Won   \n",
       "3       MV1LWRNH      Moses Frase       GTX Basic  Codehow        Won   \n",
       "4       PE84CX4O        Zane Levy       GTX Basic   Hatfan        Won   \n",
       "\n",
       "  engage_date  close_date  close_value  \n",
       "0  2016-10-20  2017-03-01       1054.0  \n",
       "1  2016-10-25  2017-03-11       4514.0  \n",
       "2  2016-10-25  2017-03-07         50.0  \n",
       "3  2016-10-25  2017-03-09        588.0  \n",
       "4  2016-10-25  2017-03-02        517.0  "
      ]
     },
     "execution_count": 102,
     "metadata": {},
     "output_type": "execute_result"
    }
   ],
   "source": [
    "import pandas as pd\n",
    "sales_pipeline = pd.read_csv('sales_pipeline.csv')\n",
    "sales_pipeline.head()"
   ]
  },
  {
   "cell_type": "code",
   "execution_count": 106,
   "id": "2af2f9ee-176a-4fc4-be8c-2b827b0b0ade",
   "metadata": {},
   "outputs": [
    {
     "name": "stdout",
     "output_type": "stream",
     "text": [
      "<class 'pandas.core.frame.DataFrame'>\n",
      "RangeIndex: 8800 entries, 0 to 8799\n",
      "Data columns (total 8 columns):\n",
      " #   Column          Non-Null Count  Dtype         \n",
      "---  ------          --------------  -----         \n",
      " 0   opportunity_id  8800 non-null   object        \n",
      " 1   sales_agent     8800 non-null   object        \n",
      " 2   product         8800 non-null   object        \n",
      " 3   account         7375 non-null   object        \n",
      " 4   deal_stage      8800 non-null   object        \n",
      " 5   engage_date     8300 non-null   object        \n",
      " 6   close_date      6711 non-null   datetime64[ns]\n",
      " 7   close_value     6711 non-null   float64       \n",
      "dtypes: datetime64[ns](1), float64(1), object(6)\n",
      "memory usage: 550.1+ KB\n"
     ]
    }
   ],
   "source": [
    "sales_pipeline['close_date'] = pd.to_datetime(sales_pipeline['close_date'])\n",
    "sales_pipeline.info()"
   ]
  },
  {
   "cell_type": "markdown",
   "id": "5aa02099-5cbe-4894-a8b3-9c799c7ccb6c",
   "metadata": {},
   "source": [
    "Filtering the data where data_stage = \"Won\""
   ]
  },
  {
   "cell_type": "code",
   "execution_count": 143,
   "id": "d175a944-6f0a-4c5b-b41a-b01e244d5356",
   "metadata": {},
   "outputs": [
    {
     "data": {
      "text/plain": [
       "array(['GTX Plus Basic', 'GTXPro', 'MG Special', 'GTX Basic',\n",
       "       'MG Advanced', 'GTX Plus Pro', 'GTK 500'], dtype=object)"
      ]
     },
     "execution_count": 143,
     "metadata": {},
     "output_type": "execute_result"
    }
   ],
   "source": [
    "sales_pipeline['product'].unique()"
   ]
  },
  {
   "cell_type": "markdown",
   "id": "365eb205-adfc-4934-9485-ede0e2bb3912",
   "metadata": {},
   "source": [
    "I notice that 'GTXPro' is one word, not two. "
   ]
  },
  {
   "cell_type": "code",
   "execution_count": 148,
   "id": "ceee193d-264a-473d-9f6b-9e6b52cd3ee7",
   "metadata": {},
   "outputs": [
    {
     "data": {
      "text/plain": [
       "array(['GTX Plus Basic', 'GTX Pro', 'MG Special', 'GTX Basic',\n",
       "       'MG Advanced', 'GTX Plus Pro', 'GTK 500'], dtype=object)"
      ]
     },
     "execution_count": 148,
     "metadata": {},
     "output_type": "execute_result"
    }
   ],
   "source": [
    "sales_pipeline['product'].replace('GTXPro', 'GTX Pro', inplace = True)\n",
    "sales_pipeline['product'].unique()"
   ]
  },
  {
   "cell_type": "code",
   "execution_count": 150,
   "id": "d85947d2-8bda-4eaa-907e-7fbf6791a512",
   "metadata": {},
   "outputs": [
    {
     "data": {
      "text/plain": [
       "array(['Won'], dtype=object)"
      ]
     },
     "execution_count": 150,
     "metadata": {},
     "output_type": "execute_result"
    }
   ],
   "source": [
    "won_deals = sales_pipeline.loc[sales_pipeline['deal_stage'] == 'Won']\n",
    "won_deals['deal_stage'].unique()"
   ]
  },
  {
   "cell_type": "markdown",
   "id": "d2190f18-691a-411a-907d-499469c51edf",
   "metadata": {},
   "source": [
    "Statistical Summaries"
   ]
  },
  {
   "cell_type": "markdown",
   "id": "48af832d-ae98-44c7-badc-8b43600a5c15",
   "metadata": {},
   "source": [
    "Overall Sales Performance"
   ]
  },
  {
   "cell_type": "markdown",
   "id": "9b550466-af9d-44df-a0c0-8ca6539c4214",
   "metadata": {},
   "source": [
    "Total Sales Value"
   ]
  },
  {
   "cell_type": "code",
   "execution_count": 152,
   "id": "ba66733e-71d3-41d4-abfc-8013e97cb6e0",
   "metadata": {},
   "outputs": [
    {
     "name": "stdout",
     "output_type": "stream",
     "text": [
      "Total sales for 2017 is $10005534.\n"
     ]
    }
   ],
   "source": [
    "total_sales = won_deals['close_value'].sum().astype(int)\n",
    "print(f\"Total sales for 2017 is ${total_sales}.\")"
   ]
  },
  {
   "cell_type": "markdown",
   "id": "afce70ff-3a9e-4d78-b45b-858d580860e4",
   "metadata": {},
   "source": [
    "Average Deal Size"
   ]
  },
  {
   "cell_type": "code",
   "execution_count": 154,
   "id": "ba822310-6a76-4bca-937a-ccf2998fa1ed",
   "metadata": {},
   "outputs": [
    {
     "name": "stdout",
     "output_type": "stream",
     "text": [
      "The average sale in 2017 is $2360.91.\n"
     ]
    }
   ],
   "source": [
    "average_sale = round(won_deals['close_value'].mean(), 2)\n",
    "print(f\"The average sale in 2017 is ${average_sale}.\")"
   ]
  },
  {
   "cell_type": "markdown",
   "id": "2571fb19-83e9-4752-ba07-6f2a735f7881",
   "metadata": {},
   "source": [
    "Min & Max Sales"
   ]
  },
  {
   "cell_type": "code",
   "execution_count": 156,
   "id": "bab578b9-08d1-4444-b01c-3df88c005293",
   "metadata": {},
   "outputs": [
    {
     "name": "stdout",
     "output_type": "stream",
     "text": [
      "The min sale in 2017 is $38.0.\n"
     ]
    }
   ],
   "source": [
    "min_sale = round(won_deals['close_value'].min(), 2)\n",
    "print(f\"The min sale in 2017 is ${min_sale}.\")"
   ]
  },
  {
   "cell_type": "code",
   "execution_count": 158,
   "id": "9bb951c7-9637-4c4c-a991-ce745df1b2ea",
   "metadata": {},
   "outputs": [
    {
     "name": "stdout",
     "output_type": "stream",
     "text": [
      "The max sale in 2017 is $30288.0.\n"
     ]
    }
   ],
   "source": [
    "max_sale = round(won_deals['close_value'].max(), 2)\n",
    "print(f\"The max sale in 2017 is ${max_sale}.\")"
   ]
  },
  {
   "cell_type": "markdown",
   "id": "bc7d405c-17f2-4a73-816d-faf2d270203a",
   "metadata": {},
   "source": [
    "St. Dev and Variance"
   ]
  },
  {
   "cell_type": "code",
   "execution_count": 168,
   "id": "d4671447-6c59-4892-afea-c16f6d5149a7",
   "metadata": {},
   "outputs": [
    {
     "name": "stdout",
     "output_type": "stream",
     "text": [
      "The standard deviation of the sales is $2544.48.\n"
     ]
    }
   ],
   "source": [
    "st_dev = won_deals['close_value'].std()\n",
    "print(f\"The standard deviation of the sales is ${round(st_dev, 2)}.\")"
   ]
  },
  {
   "cell_type": "markdown",
   "id": "c8eb6de5-a851-425d-803f-0cca675478ec",
   "metadata": {},
   "source": [
    "//////////////////////////////"
   ]
  },
  {
   "cell_type": "markdown",
   "id": "cd6a0f23-7282-4bf7-a33a-c0a024b4f8f0",
   "metadata": {},
   "source": [
    "Deal outcomes"
   ]
  },
  {
   "cell_type": "markdown",
   "id": "479d812a-aeb5-4b2e-8555-d78e8aeae274",
   "metadata": {},
   "source": [
    "How many deals are 1.) Won 2.) Lost or 3.) Being Engaged?"
   ]
  },
  {
   "cell_type": "code",
   "execution_count": 182,
   "id": "0bdf658f-4d03-49fa-8846-8447b96669fb",
   "metadata": {},
   "outputs": [
    {
     "data": {
      "text/plain": [
       "deal_stage\n",
       "Won            4238\n",
       "Lost           2473\n",
       "Engaging       1589\n",
       "Prospecting     500\n",
       "Name: count, dtype: int64"
      ]
     },
     "execution_count": 182,
     "metadata": {},
     "output_type": "execute_result"
    }
   ],
   "source": [
    "deal_outcomes = sales_pipeline['deal_stage'].value_counts()\n",
    "deal_outcomes"
   ]
  },
  {
   "cell_type": "code",
   "execution_count": 190,
   "id": "80c91d75-0e6a-4db6-a335-ffe96070c6c8",
   "metadata": {},
   "outputs": [
    {
     "name": "stdout",
     "output_type": "stream",
     "text": [
      "4238 deals have been won\n",
      "2473 deals have been lost\n",
      "1589 deals actively being engaged\n"
     ]
    }
   ],
   "source": [
    "print(f\"{deal_outcomes['Won']} deals have been won\")\n",
    "print(f\"{deal_outcomes['Lost']} deals have been lost\")\n",
    "print(f\"{deal_outcomes['Engaging']} deals actively being engaged\")"
   ]
  },
  {
   "cell_type": "markdown",
   "id": "609e2b96-1136-4d1c-ab43-c3613f5e7176",
   "metadata": {},
   "source": [
    "Calculating Win/Loss Ratio"
   ]
  },
  {
   "cell_type": "code",
   "execution_count": 197,
   "id": "718e688d-bf7c-4cc2-ab3a-bb5d4e5f18a1",
   "metadata": {},
   "outputs": [
    {
     "name": "stdout",
     "output_type": "stream",
     "text": [
      "Win/Loss Ratio: 1.71\n"
     ]
    }
   ],
   "source": [
    "print(f\"Win/Loss Ratio: {round(deal_outcomes['Won'] / deal_outcomes['Lost'], 2)}\")"
   ]
  },
  {
   "cell_type": "markdown",
   "id": "51140a71-2d9b-4a5b-90db-df5311827084",
   "metadata": {},
   "source": [
    "//////////////////////////////////"
   ]
  },
  {
   "cell_type": "markdown",
   "id": "1b494796-0b4a-4848-9376-5adabc9ecc90",
   "metadata": {},
   "source": [
    "Calculating monthly sales"
   ]
  },
  {
   "cell_type": "code",
   "execution_count": 203,
   "id": "3f3af1d0-c235-4de2-bdc0-ea83650c2841",
   "metadata": {},
   "outputs": [
    {
     "name": "stderr",
     "output_type": "stream",
     "text": [
      "C:\\Users\\chris\\AppData\\Local\\Temp\\ipykernel_39612\\1562030574.py:1: SettingWithCopyWarning: \n",
      "A value is trying to be set on a copy of a slice from a DataFrame.\n",
      "Try using .loc[row_indexer,col_indexer] = value instead\n",
      "\n",
      "See the caveats in the documentation: https://pandas.pydata.org/pandas-docs/stable/user_guide/indexing.html#returning-a-view-versus-a-copy\n",
      "  won_deals['month'] = won_deals['close_date'].dt.strftime('%B')\n"
     ]
    },
    {
     "data": {
      "text/html": [
       "<div>\n",
       "<style scoped>\n",
       "    .dataframe tbody tr th:only-of-type {\n",
       "        vertical-align: middle;\n",
       "    }\n",
       "\n",
       "    .dataframe tbody tr th {\n",
       "        vertical-align: top;\n",
       "    }\n",
       "\n",
       "    .dataframe thead th {\n",
       "        text-align: right;\n",
       "    }\n",
       "</style>\n",
       "<table border=\"1\" class=\"dataframe\">\n",
       "  <thead>\n",
       "    <tr style=\"text-align: right;\">\n",
       "      <th></th>\n",
       "      <th>opportunity_id</th>\n",
       "      <th>sales_agent</th>\n",
       "      <th>product</th>\n",
       "      <th>account</th>\n",
       "      <th>deal_stage</th>\n",
       "      <th>engage_date</th>\n",
       "      <th>close_date</th>\n",
       "      <th>close_value</th>\n",
       "      <th>month</th>\n",
       "    </tr>\n",
       "  </thead>\n",
       "  <tbody>\n",
       "    <tr>\n",
       "      <th>0</th>\n",
       "      <td>1C1I7A6R</td>\n",
       "      <td>Moses Frase</td>\n",
       "      <td>GTX Plus Basic</td>\n",
       "      <td>Cancity</td>\n",
       "      <td>Won</td>\n",
       "      <td>2016-10-20</td>\n",
       "      <td>2017-03-01</td>\n",
       "      <td>1054.0</td>\n",
       "      <td>March</td>\n",
       "    </tr>\n",
       "    <tr>\n",
       "      <th>1</th>\n",
       "      <td>Z063OYW0</td>\n",
       "      <td>Darcel Schlecht</td>\n",
       "      <td>GTX Pro</td>\n",
       "      <td>Isdom</td>\n",
       "      <td>Won</td>\n",
       "      <td>2016-10-25</td>\n",
       "      <td>2017-03-11</td>\n",
       "      <td>4514.0</td>\n",
       "      <td>March</td>\n",
       "    </tr>\n",
       "    <tr>\n",
       "      <th>2</th>\n",
       "      <td>EC4QE1BX</td>\n",
       "      <td>Darcel Schlecht</td>\n",
       "      <td>MG Special</td>\n",
       "      <td>Cancity</td>\n",
       "      <td>Won</td>\n",
       "      <td>2016-10-25</td>\n",
       "      <td>2017-03-07</td>\n",
       "      <td>50.0</td>\n",
       "      <td>March</td>\n",
       "    </tr>\n",
       "    <tr>\n",
       "      <th>3</th>\n",
       "      <td>MV1LWRNH</td>\n",
       "      <td>Moses Frase</td>\n",
       "      <td>GTX Basic</td>\n",
       "      <td>Codehow</td>\n",
       "      <td>Won</td>\n",
       "      <td>2016-10-25</td>\n",
       "      <td>2017-03-09</td>\n",
       "      <td>588.0</td>\n",
       "      <td>March</td>\n",
       "    </tr>\n",
       "    <tr>\n",
       "      <th>4</th>\n",
       "      <td>PE84CX4O</td>\n",
       "      <td>Zane Levy</td>\n",
       "      <td>GTX Basic</td>\n",
       "      <td>Hatfan</td>\n",
       "      <td>Won</td>\n",
       "      <td>2016-10-25</td>\n",
       "      <td>2017-03-02</td>\n",
       "      <td>517.0</td>\n",
       "      <td>March</td>\n",
       "    </tr>\n",
       "  </tbody>\n",
       "</table>\n",
       "</div>"
      ],
      "text/plain": [
       "  opportunity_id      sales_agent         product  account deal_stage  \\\n",
       "0       1C1I7A6R      Moses Frase  GTX Plus Basic  Cancity        Won   \n",
       "1       Z063OYW0  Darcel Schlecht         GTX Pro    Isdom        Won   \n",
       "2       EC4QE1BX  Darcel Schlecht      MG Special  Cancity        Won   \n",
       "3       MV1LWRNH      Moses Frase       GTX Basic  Codehow        Won   \n",
       "4       PE84CX4O        Zane Levy       GTX Basic   Hatfan        Won   \n",
       "\n",
       "  engage_date close_date  close_value  month  \n",
       "0  2016-10-20 2017-03-01       1054.0  March  \n",
       "1  2016-10-25 2017-03-11       4514.0  March  \n",
       "2  2016-10-25 2017-03-07         50.0  March  \n",
       "3  2016-10-25 2017-03-09        588.0  March  \n",
       "4  2016-10-25 2017-03-02        517.0  March  "
      ]
     },
     "execution_count": 203,
     "metadata": {},
     "output_type": "execute_result"
    }
   ],
   "source": [
    "won_deals['month'] = won_deals['close_date'].dt.strftime('%B')\n",
    "won_deals.head()"
   ]
  },
  {
   "cell_type": "code",
   "execution_count": 205,
   "id": "76b092b3-4fd3-4c68-b797-d80dcab230fa",
   "metadata": {
    "scrolled": true
   },
   "outputs": [
    {
     "name": "stdout",
     "output_type": "stream",
     "text": [
      "       Month  Total_Sales\n",
      "0      April     721932.0\n",
      "1     August    1050059.0\n",
      "2   December    1131573.0\n",
      "3       July     696932.0\n",
      "4       June    1338466.0\n",
      "5      March    1134672.0\n",
      "6        May    1025713.0\n",
      "7   November     938943.0\n",
      "8    October     731980.0\n",
      "9  September    1235264.0\n"
     ]
    }
   ],
   "source": [
    "monthly_aggregation = won_deals.groupby('month')['close_value'].sum().reset_index()\n",
    "monthly_aggregation.rename(columns={'month': 'Month', 'close_value': 'Total_Sales'}, inplace = True)\n",
    "print(monthly_aggregation)"
   ]
  },
  {
   "cell_type": "markdown",
   "id": "5b3b4e05-e670-4d4a-ad95-82d06c5f13ae",
   "metadata": {},
   "source": [
    "I notice that my months are out of order"
   ]
  },
  {
   "cell_type": "code",
   "execution_count": 216,
   "id": "f25171c2-d66d-4b0a-8e6e-cb541eeabb53",
   "metadata": {},
   "outputs": [
    {
     "data": {
      "text/html": [
       "<div>\n",
       "<style scoped>\n",
       "    .dataframe tbody tr th:only-of-type {\n",
       "        vertical-align: middle;\n",
       "    }\n",
       "\n",
       "    .dataframe tbody tr th {\n",
       "        vertical-align: top;\n",
       "    }\n",
       "\n",
       "    .dataframe thead th {\n",
       "        text-align: right;\n",
       "    }\n",
       "</style>\n",
       "<table border=\"1\" class=\"dataframe\">\n",
       "  <thead>\n",
       "    <tr style=\"text-align: right;\">\n",
       "      <th></th>\n",
       "      <th>Month</th>\n",
       "      <th>Total_Sales</th>\n",
       "    </tr>\n",
       "  </thead>\n",
       "  <tbody>\n",
       "    <tr>\n",
       "      <th>5</th>\n",
       "      <td>March</td>\n",
       "      <td>1134672.0</td>\n",
       "    </tr>\n",
       "    <tr>\n",
       "      <th>0</th>\n",
       "      <td>April</td>\n",
       "      <td>721932.0</td>\n",
       "    </tr>\n",
       "    <tr>\n",
       "      <th>6</th>\n",
       "      <td>May</td>\n",
       "      <td>1025713.0</td>\n",
       "    </tr>\n",
       "    <tr>\n",
       "      <th>4</th>\n",
       "      <td>June</td>\n",
       "      <td>1338466.0</td>\n",
       "    </tr>\n",
       "    <tr>\n",
       "      <th>3</th>\n",
       "      <td>July</td>\n",
       "      <td>696932.0</td>\n",
       "    </tr>\n",
       "    <tr>\n",
       "      <th>1</th>\n",
       "      <td>August</td>\n",
       "      <td>1050059.0</td>\n",
       "    </tr>\n",
       "    <tr>\n",
       "      <th>9</th>\n",
       "      <td>September</td>\n",
       "      <td>1235264.0</td>\n",
       "    </tr>\n",
       "    <tr>\n",
       "      <th>8</th>\n",
       "      <td>October</td>\n",
       "      <td>731980.0</td>\n",
       "    </tr>\n",
       "    <tr>\n",
       "      <th>7</th>\n",
       "      <td>November</td>\n",
       "      <td>938943.0</td>\n",
       "    </tr>\n",
       "    <tr>\n",
       "      <th>2</th>\n",
       "      <td>December</td>\n",
       "      <td>1131573.0</td>\n",
       "    </tr>\n",
       "  </tbody>\n",
       "</table>\n",
       "</div>"
      ],
      "text/plain": [
       "       Month  Total_Sales\n",
       "5      March    1134672.0\n",
       "0      April     721932.0\n",
       "6        May    1025713.0\n",
       "4       June    1338466.0\n",
       "3       July     696932.0\n",
       "1     August    1050059.0\n",
       "9  September    1235264.0\n",
       "8    October     731980.0\n",
       "7   November     938943.0\n",
       "2   December    1131573.0"
      ]
     },
     "execution_count": 216,
     "metadata": {},
     "output_type": "execute_result"
    }
   ],
   "source": [
    "monthly_aggregation = monthly_aggregation.reindex(index=[5, 0, 6, 4, 3, 1, 9, 8, 7, 2])\n",
    "monthly_aggregation"
   ]
  },
  {
   "cell_type": "code",
   "execution_count": 220,
   "id": "70b72c32-0e3e-42b5-b84c-e96352f42305",
   "metadata": {},
   "outputs": [
    {
     "data": {
      "image/png": "[encoded data removed]",
      "text/plain": [
       "<Figure size 1000x600 with 1 Axes>"
      ]
     },
     "metadata": {},
     "output_type": "display_data"
    }
   ],
   "source": [
    "import seaborn as sns\n",
    "plt.figure(figsize=(10, 6))\n",
    "sns.lineplot(data=monthly_aggregation, x='Month', y='Total_Sales', marker='o')\n",
    "\n",
    "plt.title('Monthly Sales for 2017', fontsize=14)\n",
    "plt.xlabel('Month', fontsize=12)\n",
    "plt.ylabel('Sales ($)', fontsize=12)\n",
    "\n",
    "# Format y-axis as dollar values\n",
    "import matplotlib.ticker as mtick\n",
    "plt.gca().yaxis.set_major_formatter(mtick.StrMethodFormatter('${x:,.0f}'))\n",
    "\n",
    "plt.gca().set_ylim([0, 1500000])\n",
    "\n",
    "\n",
    "# Show the plot\n",
    "plt.show()"
   ]
  },
  {
   "cell_type": "code",
   "execution_count": 224,
   "id": "ae76ab7f-fa21-4c8b-bf8b-086cf0a0edba",
   "metadata": {},
   "outputs": [
    {
     "data": {
      "text/html": [
       "<div>\n",
       "<style scoped>\n",
       "    .dataframe tbody tr th:only-of-type {\n",
       "        vertical-align: middle;\n",
       "    }\n",
       "\n",
       "    .dataframe tbody tr th {\n",
       "        vertical-align: top;\n",
       "    }\n",
       "\n",
       "    .dataframe thead th {\n",
       "        text-align: right;\n",
       "    }\n",
       "</style>\n",
       "<table border=\"1\" class=\"dataframe\">\n",
       "  <thead>\n",
       "    <tr style=\"text-align: right;\">\n",
       "      <th></th>\n",
       "      <th>opportunity_id</th>\n",
       "      <th>sales_agent</th>\n",
       "      <th>product</th>\n",
       "      <th>account</th>\n",
       "      <th>deal_stage</th>\n",
       "      <th>engage_date</th>\n",
       "      <th>close_date</th>\n",
       "      <th>close_value</th>\n",
       "      <th>month</th>\n",
       "    </tr>\n",
       "  </thead>\n",
       "  <tbody>\n",
       "    <tr>\n",
       "      <th>0</th>\n",
       "      <td>1C1I7A6R</td>\n",
       "      <td>Moses Frase</td>\n",
       "      <td>GTX Plus Basic</td>\n",
       "      <td>Cancity</td>\n",
       "      <td>Won</td>\n",
       "      <td>2016-10-20</td>\n",
       "      <td>2017-03-01</td>\n",
       "      <td>1054.0</td>\n",
       "      <td>March</td>\n",
       "    </tr>\n",
       "    <tr>\n",
       "      <th>1</th>\n",
       "      <td>Z063OYW0</td>\n",
       "      <td>Darcel Schlecht</td>\n",
       "      <td>GTX Pro</td>\n",
       "      <td>Isdom</td>\n",
       "      <td>Won</td>\n",
       "      <td>2016-10-25</td>\n",
       "      <td>2017-03-11</td>\n",
       "      <td>4514.0</td>\n",
       "      <td>March</td>\n",
       "    </tr>\n",
       "    <tr>\n",
       "      <th>2</th>\n",
       "      <td>EC4QE1BX</td>\n",
       "      <td>Darcel Schlecht</td>\n",
       "      <td>MG Special</td>\n",
       "      <td>Cancity</td>\n",
       "      <td>Won</td>\n",
       "      <td>2016-10-25</td>\n",
       "      <td>2017-03-07</td>\n",
       "      <td>50.0</td>\n",
       "      <td>March</td>\n",
       "    </tr>\n",
       "    <tr>\n",
       "      <th>3</th>\n",
       "      <td>MV1LWRNH</td>\n",
       "      <td>Moses Frase</td>\n",
       "      <td>GTX Basic</td>\n",
       "      <td>Codehow</td>\n",
       "      <td>Won</td>\n",
       "      <td>2016-10-25</td>\n",
       "      <td>2017-03-09</td>\n",
       "      <td>588.0</td>\n",
       "      <td>March</td>\n",
       "    </tr>\n",
       "    <tr>\n",
       "      <th>4</th>\n",
       "      <td>PE84CX4O</td>\n",
       "      <td>Zane Levy</td>\n",
       "      <td>GTX Basic</td>\n",
       "      <td>Hatfan</td>\n",
       "      <td>Won</td>\n",
       "      <td>2016-10-25</td>\n",
       "      <td>2017-03-02</td>\n",
       "      <td>517.0</td>\n",
       "      <td>March</td>\n",
       "    </tr>\n",
       "    <tr>\n",
       "      <th>...</th>\n",
       "      <td>...</td>\n",
       "      <td>...</td>\n",
       "      <td>...</td>\n",
       "      <td>...</td>\n",
       "      <td>...</td>\n",
       "      <td>...</td>\n",
       "      <td>...</td>\n",
       "      <td>...</td>\n",
       "      <td>...</td>\n",
       "    </tr>\n",
       "    <tr>\n",
       "      <th>8295</th>\n",
       "      <td>2EBLR9N8</td>\n",
       "      <td>Lajuana Vencill</td>\n",
       "      <td>GTX Basic</td>\n",
       "      <td>Conecom</td>\n",
       "      <td>Won</td>\n",
       "      <td>2017-12-24</td>\n",
       "      <td>2017-12-26</td>\n",
       "      <td>622.0</td>\n",
       "      <td>December</td>\n",
       "    </tr>\n",
       "    <tr>\n",
       "      <th>8296</th>\n",
       "      <td>VDGA4KXA</td>\n",
       "      <td>Violet Mclelland</td>\n",
       "      <td>GTX Plus Basic</td>\n",
       "      <td>Bluth Company</td>\n",
       "      <td>Won</td>\n",
       "      <td>2017-12-24</td>\n",
       "      <td>2017-12-30</td>\n",
       "      <td>1093.0</td>\n",
       "      <td>December</td>\n",
       "    </tr>\n",
       "    <tr>\n",
       "      <th>8297</th>\n",
       "      <td>6WCNNK5J</td>\n",
       "      <td>Maureen Marcano</td>\n",
       "      <td>GTX Pro</td>\n",
       "      <td>Hottechi</td>\n",
       "      <td>Won</td>\n",
       "      <td>2017-12-26</td>\n",
       "      <td>2017-12-29</td>\n",
       "      <td>4433.0</td>\n",
       "      <td>December</td>\n",
       "    </tr>\n",
       "    <tr>\n",
       "      <th>8298</th>\n",
       "      <td>YJTQSZ9D</td>\n",
       "      <td>Gladys Colclough</td>\n",
       "      <td>GTX Plus Basic</td>\n",
       "      <td>Inity</td>\n",
       "      <td>Won</td>\n",
       "      <td>2017-12-27</td>\n",
       "      <td>2017-12-30</td>\n",
       "      <td>1052.0</td>\n",
       "      <td>December</td>\n",
       "    </tr>\n",
       "    <tr>\n",
       "      <th>8299</th>\n",
       "      <td>RB8GDYFY</td>\n",
       "      <td>Gladys Colclough</td>\n",
       "      <td>MG Special</td>\n",
       "      <td>Betatech</td>\n",
       "      <td>Won</td>\n",
       "      <td>2017-12-27</td>\n",
       "      <td>2017-12-29</td>\n",
       "      <td>67.0</td>\n",
       "      <td>December</td>\n",
       "    </tr>\n",
       "  </tbody>\n",
       "</table>\n",
       "<p>4238 rows × 9 columns</p>\n",
       "</div>"
      ],
      "text/plain": [
       "     opportunity_id       sales_agent         product        account  \\\n",
       "0          1C1I7A6R       Moses Frase  GTX Plus Basic        Cancity   \n",
       "1          Z063OYW0   Darcel Schlecht         GTX Pro          Isdom   \n",
       "2          EC4QE1BX   Darcel Schlecht      MG Special        Cancity   \n",
       "3          MV1LWRNH       Moses Frase       GTX Basic        Codehow   \n",
       "4          PE84CX4O         Zane Levy       GTX Basic         Hatfan   \n",
       "...             ...               ...             ...            ...   \n",
       "8295       2EBLR9N8   Lajuana Vencill       GTX Basic        Conecom   \n",
       "8296       VDGA4KXA  Violet Mclelland  GTX Plus Basic  Bluth Company   \n",
       "8297       6WCNNK5J   Maureen Marcano         GTX Pro       Hottechi   \n",
       "8298       YJTQSZ9D  Gladys Colclough  GTX Plus Basic          Inity   \n",
       "8299       RB8GDYFY  Gladys Colclough      MG Special       Betatech   \n",
       "\n",
       "     deal_stage engage_date close_date  close_value     month  \n",
       "0           Won  2016-10-20 2017-03-01       1054.0     March  \n",
       "1           Won  2016-10-25 2017-03-11       4514.0     March  \n",
       "2           Won  2016-10-25 2017-03-07         50.0     March  \n",
       "3           Won  2016-10-25 2017-03-09        588.0     March  \n",
       "4           Won  2016-10-25 2017-03-02        517.0     March  \n",
       "...         ...         ...        ...          ...       ...  \n",
       "8295        Won  2017-12-24 2017-12-26        622.0  December  \n",
       "8296        Won  2017-12-24 2017-12-30       1093.0  December  \n",
       "8297        Won  2017-12-26 2017-12-29       4433.0  December  \n",
       "8298        Won  2017-12-27 2017-12-30       1052.0  December  \n",
       "8299        Won  2017-12-27 2017-12-29         67.0  December  \n",
       "\n",
       "[4238 rows x 9 columns]"
      ]
     },
     "execution_count": 224,
     "metadata": {},
     "output_type": "execute_result"
    }
   ],
   "source": [
    "won_deals"
   ]
  },
  {
   "cell_type": "code",
   "execution_count": 226,
   "id": "047a3c84-0188-47a2-8797-39eb9e5bc022",
   "metadata": {},
   "outputs": [
    {
     "name": "stdout",
     "output_type": "stream",
     "text": [
      "          Product  Total_Sales\n",
      "0         GTK 500     400612.0\n",
      "1       GTX Basic     499263.0\n",
      "2  GTX Plus Basic     705275.0\n",
      "3    GTX Plus Pro    2629651.0\n",
      "4         GTX Pro    3510578.0\n",
      "5     MG Advanced    2216387.0\n",
      "6      MG Special      43768.0\n"
     ]
    }
   ],
   "source": [
    "product_sales = won_deals.groupby('product')['close_value'].sum().reset_index()\n",
    "product_sales.rename(columns={'product': 'Product', 'close_value': 'Total_Sales'}, inplace = True)\n",
    "print(product_sales)"
   ]
  },
  {
   "cell_type": "markdown",
   "id": "0df83d76-9b0b-4c1f-8109-77d1ce553778",
   "metadata": {},
   "source": [
    "Let's sort by total sales"
   ]
  },
  {
   "cell_type": "code",
   "execution_count": 229,
   "id": "1fcfa757-4b4f-48eb-a134-9b28498ff218",
   "metadata": {},
   "outputs": [
    {
     "data": {
      "text/html": [
       "<div>\n",
       "<style scoped>\n",
       "    .dataframe tbody tr th:only-of-type {\n",
       "        vertical-align: middle;\n",
       "    }\n",
       "\n",
       "    .dataframe tbody tr th {\n",
       "        vertical-align: top;\n",
       "    }\n",
       "\n",
       "    .dataframe thead th {\n",
       "        text-align: right;\n",
       "    }\n",
       "</style>\n",
       "<table border=\"1\" class=\"dataframe\">\n",
       "  <thead>\n",
       "    <tr style=\"text-align: right;\">\n",
       "      <th></th>\n",
       "      <th>Product</th>\n",
       "      <th>Total_Sales</th>\n",
       "    </tr>\n",
       "  </thead>\n",
       "  <tbody>\n",
       "    <tr>\n",
       "      <th>4</th>\n",
       "      <td>GTX Pro</td>\n",
       "      <td>3510578.0</td>\n",
       "    </tr>\n",
       "    <tr>\n",
       "      <th>3</th>\n",
       "      <td>GTX Plus Pro</td>\n",
       "      <td>2629651.0</td>\n",
       "    </tr>\n",
       "    <tr>\n",
       "      <th>5</th>\n",
       "      <td>MG Advanced</td>\n",
       "      <td>2216387.0</td>\n",
       "    </tr>\n",
       "    <tr>\n",
       "      <th>2</th>\n",
       "      <td>GTX Plus Basic</td>\n",
       "      <td>705275.0</td>\n",
       "    </tr>\n",
       "    <tr>\n",
       "      <th>1</th>\n",
       "      <td>GTX Basic</td>\n",
       "      <td>499263.0</td>\n",
       "    </tr>\n",
       "    <tr>\n",
       "      <th>0</th>\n",
       "      <td>GTK 500</td>\n",
       "      <td>400612.0</td>\n",
       "    </tr>\n",
       "    <tr>\n",
       "      <th>6</th>\n",
       "      <td>MG Special</td>\n",
       "      <td>43768.0</td>\n",
       "    </tr>\n",
       "  </tbody>\n",
       "</table>\n",
       "</div>"
      ],
      "text/plain": [
       "          Product  Total_Sales\n",
       "4         GTX Pro    3510578.0\n",
       "3    GTX Plus Pro    2629651.0\n",
       "5     MG Advanced    2216387.0\n",
       "2  GTX Plus Basic     705275.0\n",
       "1       GTX Basic     499263.0\n",
       "0         GTK 500     400612.0\n",
       "6      MG Special      43768.0"
      ]
     },
     "execution_count": 229,
     "metadata": {},
     "output_type": "execute_result"
    }
   ],
   "source": [
    "product_sales = product_sales.sort_values(by=['Total_Sales'], ascending=False)\n",
    "product_sales"
   ]
  },
  {
   "cell_type": "code",
   "execution_count": 237,
   "id": "d89d2242-1e2d-4eda-a711-9099f2baf69e",
   "metadata": {
    "scrolled": true
   },
   "outputs": [
    {
     "data": {
      "image/png": "[encoded data removed]",
      "text/plain": [
       "<Figure size 1000x600 with 1 Axes>"
      ]
     },
     "metadata": {},
     "output_type": "display_data"
    }
   ],
   "source": [
    "plt.figure(figsize=(10, 6))\n",
    "sns.barplot(data=product_sales, x='Total_Sales', y='Product')\n",
    "\n",
    "plt.title('Product Sales Breakdown', fontsize=14)\n",
    "plt.xlabel('Sales ($)', fontsize=12)\n",
    "plt.ylabel('Product', fontsize=12)\n",
    "\n",
    "# Format x-axis as dollar values\n",
    "import matplotlib.ticker as mtick\n",
    "plt.gca().xaxis.set_major_formatter(mtick.StrMethodFormatter('${x:,.0f}'))\n",
    "\n",
    "plt.gca().set_xlim([0, 5000000])\n",
    "\n",
    "\n",
    "# Show the plot\n",
    "plt.show()"
   ]
  }
 ],
 "metadata": {
  "kernelspec": {
   "display_name": "Python 3 (ipykernel)",
   "language": "python",
   "name": "python3"
  },
  "language_info": {
   "codemirror_mode": {
    "name": "ipython",
    "version": 3
   },
   "file_extension": ".py",
   "mimetype": "text/x-python",
   "name": "python",
   "nbconvert_exporter": "python",
   "pygments_lexer": "ipython3",
   "version": "3.11.7"
  }
 },
 "nbformat": 4,
 "nbformat_minor": 5
}
